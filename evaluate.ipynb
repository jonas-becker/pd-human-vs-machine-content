{
 "cells": [
  {
   "cell_type": "code",
   "execution_count": 281,
   "metadata": {},
   "outputs": [],
   "source": [
    "import os\n",
    "import pandas as pd\n",
    "from tqdm import tqdm\n",
    "from re import sub\n",
    "import numpy as np\n",
    "import re\n",
    "import sys\n",
    "from sklearn.metrics import f1_score, precision_recall_curve, confusion_matrix\n",
    "import matplotlib.pyplot as plt"
   ]
  },
  {
   "cell_type": "code",
   "execution_count": 282,
   "metadata": {},
   "outputs": [],
   "source": [
    "DATASETS_FOLDER = \"datasets\"    #the folder that contains the dataset directories to read in\n",
    "FORMATTED_DATA_FILENAME = \"true_data.json\"  #the name of the file that contains the data to read in\n",
    "DETECTION_RESULTS_FILENAME = \"detection_results.json\"\n",
    "EVALUATION_RESULTS_FILENAME = \"evaluation.txt\"\n",
    "DATASETS = [\"MPC\", \"MSRP\", \"ETPC\"]     #the folders in the DATASETS_FOLDER should be named like the datasets here\n",
    "OUT_DIR = \"output\"      #the directory to output the formatted json in\n",
    "\n",
    "FUZZY = \"fuzzy_based_result\"\n",
    "SEMANTIC = \"semantic_based_result\"\n",
    "\n",
    "FUZZY_BIN = \"fuzzy_binary\"\n",
    "SEMANTIC_BIN = \"semantic_binary\"\n",
    "\n",
    "FUZZY_THRESHHOLD = 0.65\n",
    "SEMANTIC_THRESHHOLD = 0.75\n",
    "\n",
    "pd.set_option(\"display.max_colwidth\", None)"
   ]
  },
  {
   "cell_type": "code",
   "execution_count": 283,
   "metadata": {},
   "outputs": [
    {
     "data": {
      "text/html": [
       "<div>\n",
       "<style scoped>\n",
       "    .dataframe tbody tr th:only-of-type {\n",
       "        vertical-align: middle;\n",
       "    }\n",
       "\n",
       "    .dataframe tbody tr th {\n",
       "        vertical-align: top;\n",
       "    }\n",
       "\n",
       "    .dataframe thead th {\n",
       "        text-align: right;\n",
       "    }\n",
       "</style>\n",
       "<table border=\"1\" class=\"dataframe\">\n",
       "  <thead>\n",
       "    <tr style=\"text-align: right;\">\n",
       "      <th></th>\n",
       "      <th>dataset</th>\n",
       "      <th>id_1</th>\n",
       "      <th>id_2</th>\n",
       "      <th>text_1</th>\n",
       "      <th>text_2</th>\n",
       "      <th>is_paraphrase</th>\n",
       "      <th>fuzzy_based_result</th>\n",
       "      <th>semantic_based_result</th>\n",
       "    </tr>\n",
       "  </thead>\n",
       "  <tbody>\n",
       "    <tr>\n",
       "      <th>0</th>\n",
       "      <td>DMoP</td>\n",
       "      <td>HiDc8dkT</td>\n",
       "      <td>3n3Na3BD</td>\n",
       "      <td>Roy of the Rovers</td>\n",
       "      <td>Roy of the Rovers</td>\n",
       "      <td>True</td>\n",
       "      <td>1.00</td>\n",
       "      <td>1.000000</td>\n",
       "    </tr>\n",
       "    <tr>\n",
       "      <th>1</th>\n",
       "      <td>DMoP</td>\n",
       "      <td>5KfcxDBb</td>\n",
       "      <td>QUzQei9u</td>\n",
       "      <td>Roy of the Rovers is a British comic strip about the life and times of a fictional footballer named Roy Race, who played for Melchester Rovers. The strip first appeared in the \"Tiger\" in 1954, before giving its name to a weekly (and later monthly) comic magazine, published by IPC and Fleetway from 1976 until 1995, in which it was the main feature.</td>\n",
       "      <td>Roy of the Rovers is a British funny cartoon about the life and times of an anecdotal footballer named Roy Race, who played for Melchester Rovers. The strip originally showed up in the \"Tiger\" in 1954, preceding giving its name to a week after week (and later month to month) comic magazine, distributed by IPC and Fleetway from 1976 until 1995, in which it was the principle include.</td>\n",
       "      <td>True</td>\n",
       "      <td>0.83</td>\n",
       "      <td>0.777395</td>\n",
       "    </tr>\n",
       "    <tr>\n",
       "      <th>2</th>\n",
       "      <td>DMoP</td>\n",
       "      <td>gxShcSRt</td>\n",
       "      <td>5nSAkBfd</td>\n",
       "      <td>The weekly strip ran until 1993, following Roy's playing career until its conclusion after he lost his left foot in a helicopter crash. When the monthly comic was launched later that year the focus switched to Roy's son Rocky, who also played for Melchester. This publication was short-lived, and folded after only 19 issues. The adventures of the Race family were subsequently featured in the monthly \"Match of the Day\" football magazine, in which father and son were reunited as manager and player respectively. These strips began in 1997 and continued until the magazine's closure in May 2001.</td>\n",
       "      <td>The week after week strip kept running until 1993, after Roy's playing vocation until its decision after he lost his left foot in a helicopter crash. At the point when the month to month comic was propelled soon thereafter the center changed to Roy's child Rocky, who additionally played for Melchester. This production was brief, and collapsed after just 19 issues. The undertakings of the Race family were in this manner highlighted in the month to month \"Match of the Day\" football magazine, in which father and child were brought together as chief and player separately. These strips started in 1997 and proceeded until the magazine's conclusion in May 2001.</td>\n",
       "      <td>True</td>\n",
       "      <td>0.75</td>\n",
       "      <td>0.756583</td>\n",
       "    </tr>\n",
       "    <tr>\n",
       "      <th>3</th>\n",
       "      <td>DMoP</td>\n",
       "      <td>ERwDq4GC</td>\n",
       "      <td>mFG5GR3n</td>\n",
       "      <td>Football-themed stories were a staple of British comics for boys from the 1950s onwards, and Roy of the Rovers was the most popular. To keep the strip exciting, Melchester was almost every year either competing for major honours or struggling against relegation to a lower division; a normal, uneventful season of mid-table mediocrity was unknown at Melchester Rovers. The strip followed the structure of the actual English football season, thus there were several months each year in summer when there was no league football. By far the most common summer storyline saw Melchester touring a fictional country in an exotic part of the world, often South America, where they would invariably be kidnapped and held to ransom. The average reader probably stayed with the comic regularly for only three or four years, therefore storylines were sometimes recycled; during the first ten years of his playing career, Roy was kidnapped at least four times. Roy also made numerous appearances for England, depicted playing alongside actual players such as Malcolm Macdonald and Trevor Francis.</td>\n",
       "      <td>Football-themed stories were a staple of British funnies for young men from the 1950s onwards, and Roy of the Rovers was the most prevalent. To keep the strip energizing, Melchester was pretty much consistently either seeking real distinctions or battling against transfer to a lower division; a typical, uneventful period of mid-table unremarkableness was obscure at Melchester Rovers. The strip pursued the structure of the real English football season, along these lines there were a while every year in summer when there was no association football. By a long shot the most well-known summer storyline saw Melchester visiting an anecdotal nation in a fascinating piece of the world, regularly South America, where they would perpetually be grabbed and held to recover. The normal peruser presumably remained with the comic consistently for just three or four years, in this way storylines were now and then reused; amid the initial ten years of his playing vocation, Roy was seized something like multiple times. Roy likewise shown up for England, delineated playing nearby real players, for example, Malcolm Macdonald and Trevor Francis.</td>\n",
       "      <td>True</td>\n",
       "      <td>0.74</td>\n",
       "      <td>0.862936</td>\n",
       "    </tr>\n",
       "    <tr>\n",
       "      <th>4</th>\n",
       "      <td>DMoP</td>\n",
       "      <td>Fq6uMo6z</td>\n",
       "      <td>RWeiMaNw</td>\n",
       "      <td>The stock media phrase \"real 'Roy of the Rovers' stuff\" is often used by football writers, commentators and fans when describing displays of great skill, or surprising results that go against the odds, in reference to the dramatic storylines that were the strip's trademark.</td>\n",
       "      <td>The stock media express \"genuine 'Roy of the Rovers' stuff\" is regularly utilized by football journalists, observers and fans while portraying presentations of extraordinary ability, or amazing outcomes that conflict with the chances, in reference to the sensational storylines that were the strip's trademark.</td>\n",
       "      <td>True</td>\n",
       "      <td>0.72</td>\n",
       "      <td>0.678417</td>\n",
       "    </tr>\n",
       "  </tbody>\n",
       "</table>\n",
       "</div>"
      ],
      "text/plain": [
       "  dataset      id_1      id_2  \\\n",
       "0    DMoP  HiDc8dkT  3n3Na3BD   \n",
       "1    DMoP  5KfcxDBb  QUzQei9u   \n",
       "2    DMoP  gxShcSRt  5nSAkBfd   \n",
       "3    DMoP  ERwDq4GC  mFG5GR3n   \n",
       "4    DMoP  Fq6uMo6z  RWeiMaNw   \n",
       "\n",
       "                                                                                                                                                                                                                                                                                                                                                                                                                                                                                                                                                                                                                                                                                                                                                                                                                                                                                                                                                                                                                                                                                                                         text_1  \\\n",
       "0                                                                                                                                                                                                                                                                                                                                                                                                                                                                                                                                                                                                                                                                                                                                                                                                                                                                                                                                                                                                                                                                                                             Roy of the Rovers   \n",
       "1                                                                                                                                                                                                                                                                                                                                                                                                                                                                                                                                                                                                                                                                                                                                                                 Roy of the Rovers is a British comic strip about the life and times of a fictional footballer named Roy Race, who played for Melchester Rovers. The strip first appeared in the \"Tiger\" in 1954, before giving its name to a weekly (and later monthly) comic magazine, published by IPC and Fleetway from 1976 until 1995, in which it was the main feature.   \n",
       "2                                                                                                                                                                                                                                                                                                                                                                                                                                                                                                          The weekly strip ran until 1993, following Roy's playing career until its conclusion after he lost his left foot in a helicopter crash. When the monthly comic was launched later that year the focus switched to Roy's son Rocky, who also played for Melchester. This publication was short-lived, and folded after only 19 issues. The adventures of the Race family were subsequently featured in the monthly \"Match of the Day\" football magazine, in which father and son were reunited as manager and player respectively. These strips began in 1997 and continued until the magazine's closure in May 2001.   \n",
       "3  Football-themed stories were a staple of British comics for boys from the 1950s onwards, and Roy of the Rovers was the most popular. To keep the strip exciting, Melchester was almost every year either competing for major honours or struggling against relegation to a lower division; a normal, uneventful season of mid-table mediocrity was unknown at Melchester Rovers. The strip followed the structure of the actual English football season, thus there were several months each year in summer when there was no league football. By far the most common summer storyline saw Melchester touring a fictional country in an exotic part of the world, often South America, where they would invariably be kidnapped and held to ransom. The average reader probably stayed with the comic regularly for only three or four years, therefore storylines were sometimes recycled; during the first ten years of his playing career, Roy was kidnapped at least four times. Roy also made numerous appearances for England, depicted playing alongside actual players such as Malcolm Macdonald and Trevor Francis.   \n",
       "4                                                                                                                                                                                                                                                                                                                                                                                                                                                                                                                                                                                                                                                                                                                                                                                                                                            The stock media phrase \"real 'Roy of the Rovers' stuff\" is often used by football writers, commentators and fans when describing displays of great skill, or surprising results that go against the odds, in reference to the dramatic storylines that were the strip's trademark.   \n",
       "\n",
       "                                                                                                                                                                                                                                                                                                                                                                                                                                                                                                                                                                                                                                                                                                                                                                                                                                                                                                                                                                                                                                                                                                                                                                                   text_2  \\\n",
       "0                                                                                                                                                                                                                                                                                                                                                                                                                                                                                                                                                                                                                                                                                                                                                                                                                                                                                                                                                                                                                                                                                                                                                                       Roy of the Rovers   \n",
       "1                                                                                                                                                                                                                                                                                                                                                                                                                                                                                                                                                                                                                                                                                                                                                                                        Roy of the Rovers is a British funny cartoon about the life and times of an anecdotal footballer named Roy Race, who played for Melchester Rovers. The strip originally showed up in the \"Tiger\" in 1954, preceding giving its name to a week after week (and later month to month) comic magazine, distributed by IPC and Fleetway from 1976 until 1995, in which it was the principle include.   \n",
       "2                                                                                                                                                                                                                                                                                                                                                                                                                                                                                                  The week after week strip kept running until 1993, after Roy's playing vocation until its decision after he lost his left foot in a helicopter crash. At the point when the month to month comic was propelled soon thereafter the center changed to Roy's child Rocky, who additionally played for Melchester. This production was brief, and collapsed after just 19 issues. The undertakings of the Race family were in this manner highlighted in the month to month \"Match of the Day\" football magazine, in which father and child were brought together as chief and player separately. These strips started in 1997 and proceeded until the magazine's conclusion in May 2001.   \n",
       "3  Football-themed stories were a staple of British funnies for young men from the 1950s onwards, and Roy of the Rovers was the most prevalent. To keep the strip energizing, Melchester was pretty much consistently either seeking real distinctions or battling against transfer to a lower division; a typical, uneventful period of mid-table unremarkableness was obscure at Melchester Rovers. The strip pursued the structure of the real English football season, along these lines there were a while every year in summer when there was no association football. By a long shot the most well-known summer storyline saw Melchester visiting an anecdotal nation in a fascinating piece of the world, regularly South America, where they would perpetually be grabbed and held to recover. The normal peruser presumably remained with the comic consistently for just three or four years, in this way storylines were now and then reused; amid the initial ten years of his playing vocation, Roy was seized something like multiple times. Roy likewise shown up for England, delineated playing nearby real players, for example, Malcolm Macdonald and Trevor Francis.   \n",
       "4                                                                                                                                                                                                                                                                                                                                                                                                                                                                                                                                                                                                                                                                                                                                                                                                                                                                  The stock media express \"genuine 'Roy of the Rovers' stuff\" is regularly utilized by football journalists, observers and fans while portraying presentations of extraordinary ability, or amazing outcomes that conflict with the chances, in reference to the sensational storylines that were the strip's trademark.   \n",
       "\n",
       "   is_paraphrase  fuzzy_based_result  semantic_based_result  \n",
       "0           True                1.00               1.000000  \n",
       "1           True                0.83               0.777395  \n",
       "2           True                0.75               0.756583  \n",
       "3           True                0.74               0.862936  \n",
       "4           True                0.72               0.678417  "
      ]
     },
     "execution_count": 283,
     "metadata": {},
     "output_type": "execute_result"
    }
   ],
   "source": [
    "df = pd.read_json(os.path.join(OUT_DIR, DETECTION_RESULTS_FILENAME), orient = \"index\")\n",
    "df.head()"
   ]
  },
  {
   "cell_type": "code",
   "execution_count": 284,
   "metadata": {},
   "outputs": [],
   "source": [
    "semantic_bin = []\n",
    "fuzzy_bin = []\n",
    "for i, row in df.iterrows():\n",
    "    # semantic\n",
    "    if row[SEMANTIC] >= SEMANTIC_THRESHHOLD:\n",
    "        semantic_bin.append(True)\n",
    "    else:\n",
    "        semantic_bin.append(False)\n",
    "    # fuzzy\n",
    "    if row[FUZZY] >= FUZZY_THRESHHOLD:\n",
    "        fuzzy_bin.append(True)\n",
    "    else:\n",
    "        fuzzy_bin.append(False)\n",
    "\n",
    "df[SEMANTIC_BIN] = semantic_bin\n",
    "df[FUZZY_BIN] = fuzzy_bin"
   ]
  },
  {
   "cell_type": "code",
   "execution_count": 285,
   "metadata": {},
   "outputs": [],
   "source": [
    "precision_semantic, recall_semantic, thresholds_semantic = precision_recall_curve(df[\"is_paraphrase\"], df[SEMANTIC])\n",
    "precision_fuzzy, recall_fuzzy, thresholds_fuzzy = precision_recall_curve(df[\"is_paraphrase\"], df[FUZZY])\n"
   ]
  },
  {
   "cell_type": "code",
   "execution_count": 286,
   "metadata": {},
   "outputs": [
    {
     "data": {
      "image/png": "[encoded data removed]",
      "text/plain": [
       "<Figure size 432x288 with 1 Axes>"
      ]
     },
     "metadata": {
      "needs_background": "light"
     },
     "output_type": "display_data"
    },
    {
     "data": {
      "image/png": "[encoded data removed]",
      "text/plain": [
       "<Figure size 432x288 with 1 Axes>"
      ]
     },
     "metadata": {
      "needs_background": "light"
     },
     "output_type": "display_data"
    }
   ],
   "source": [
    "fig, ax = plt.subplots()\n",
    "ax.plot(recall_semantic, precision_semantic, color='blue')\n",
    "ax.set_title('Precision-Recall Curve (Semantic)')\n",
    "ax.set_xlabel('Recall')\n",
    "ax.set_ylabel('Precision')\n",
    "plt.show()\n",
    "\n",
    "fig, ax = plt.subplots()\n",
    "ax.plot(recall_fuzzy, precision_fuzzy, color='blue')\n",
    "ax.set_title('Precision-Recall Curve (Fuzzy)')\n",
    "ax.set_xlabel('Recall')\n",
    "ax.set_ylabel('Precision')\n",
    "plt.show()"
   ]
  },
  {
   "cell_type": "code",
   "execution_count": 295,
   "metadata": {},
   "outputs": [
    {
     "name": "stdout",
     "output_type": "stream",
     "text": [
      "-------------------------\n",
      "OVERALL DATA STATISTICS\n",
      "-------------------------\n",
      "Processed datasets: DMoP, MSRP, ETPC\n",
      "Number of sentence/paragraph pairs: 11972\n",
      "Amount of true paraphrases: 7597\n",
      "Amount of true non-paraphrases: 4375\n",
      "\n",
      "THRESHHOLDS: \n",
      "Semantic-Based: 0.75\n",
      "Fuzzy-Based: 0.65\n",
      "\n",
      "-------------------------\n",
      "Confusion Matrix Semantic\n",
      "------------------------- \n",
      "\n",
      "Predicted  False  True\n",
      "Actual                \n",
      "False       1366  3009\n",
      "True         997  6600\n",
      "\n",
      "f1-score: 0.7671742415436476\n",
      "accuracy: 0.6653859004343468\n",
      "precision: 0.6868560724320949\n",
      "recall: 0.868763985783862\n",
      "\n",
      "-------------------------\n",
      "Confusion Matrix Fuzzy\n",
      "------------------------- \n",
      "\n",
      "Predicted  False  True\n",
      "Actual                \n",
      "False       2113  2262\n",
      "True        1449  6148\n",
      "\n",
      "f1-score: 0.7681639282813769\n",
      "accuracy: 0.6900267290344136\n",
      "precision: 0.7310344827586207\n",
      "recall: 0.8092668158483612\n",
      "\n"
     ]
    }
   ],
   "source": [
    "# Confusion Matrix and f1 score for the defined threshhold\n",
    "eval_string = \"\"\n",
    "eval_string += \"-------------------------\" + \"\\n\"\n",
    "eval_string += \"OVERALL DATA STATISTICS\" + \"\\n\"\n",
    "eval_string += \"-------------------------\" + \"\\n\"\n",
    "eval_string += \"Processed datasets: \"\n",
    "for d in DATASETS:\n",
    "    eval_string += d + \", \"\n",
    "eval_string = eval_string[:-2] + \"\\n\"\n",
    "\n",
    "eval_string += \"Number of sentence/paragraph pairs: \" + str(len(df)) + \"\\n\"\n",
    "eval_string += \"Amount of true paraphrases: \" + str(len(df[df[\"is_paraphrase\"] == True])) + \"\\n\"\n",
    "eval_string += \"Amount of true non-paraphrases: \" + str(len(df[df[\"is_paraphrase\"] == False])) + \"\\n\"\n",
    "\n",
    "eval_string += \"\\nTHRESHHOLDS: \" + \"\\n\"\n",
    "eval_string += \"Semantic-Based: \" + str(SEMANTIC_THRESHHOLD) + \"\\n\"\n",
    "eval_string += \"Fuzzy-Based: \" + str(FUZZY_THRESHHOLD) + \"\\n\"\n",
    "\n",
    "eval_string += \"\\n-------------------------\" + \"\\n\"\n",
    "eval_string += \"Confusion Matrix Semantic\" + \"\\n\"\n",
    "eval_string += \"------------------------- \\n\" + \"\\n\"\n",
    "actual = pd.Series(df[\"is_paraphrase\"], name='Actual')\n",
    "predicted = pd.Series(df[SEMANTIC_BIN], name='Predicted')\n",
    "df_cross = pd.crosstab(actual, predicted)\n",
    "eval_string += df_cross.to_string() + \"\\n\"\n",
    "f1 = f1_score(actual, predicted)\n",
    "eval_string += \"\\nf1-score: \" + str(f1) + \"\\n\"\n",
    "eval_string += \"accuracy: \" + str((df_cross[0][0]+df_cross[1][1]) / len(df)) + \"\\n\"\n",
    "eval_string += \"precision: \" + str(df_cross[1][1] / (df_cross[1][0]+df_cross[1][1])) + \"\\n\"\n",
    "eval_string += \"recall: \" + str(df_cross[1][1] / (df_cross[0][1]+df_cross[1][1])) + \"\\n\"\n",
    "\n",
    "eval_string += \"\\n-------------------------\" + \"\\n\"\n",
    "eval_string += \"Confusion Matrix Fuzzy\" + \"\\n\"\n",
    "eval_string += \"------------------------- \\n\" + \"\\n\"\n",
    "actual = pd.Series(df[\"is_paraphrase\"], name='Actual')\n",
    "predicted = pd.Series(df[FUZZY_BIN], name='Predicted')\n",
    "df_cross = pd.crosstab(actual, predicted)\n",
    "eval_string += df_cross.to_string() + \"\\n\"\n",
    "f1 = f1_score(actual, predicted)\n",
    "eval_string += \"\\nf1-score: \" + str(f1) + \"\\n\"\n",
    "eval_string += \"accuracy: \" + str((df_cross[0][0]+df_cross[1][1]) / len(df)) + \"\\n\"\n",
    "eval_string += \"precision: \" + str(df_cross[1][1] / (df_cross[1][0]+df_cross[1][1])) + \"\\n\"\n",
    "eval_string += \"recall: \" + str(df_cross[1][1] / (df_cross[0][1]+df_cross[1][1])) + \"\\n\"\n",
    "\n",
    "print(eval_string)\n",
    "\n",
    "with open(os.path.join(OUT_DIR, EVALUATION_RESULTS_FILENAME), \"w\") as text_file:\n",
    "    text_file.write(eval_string)"
   ]
  },
  {
   "cell_type": "code",
   "execution_count": 296,
   "metadata": {},
   "outputs": [
    {
     "data": {
      "text/plain": [
       "'\\nAccuracy: May not be a good measure because the dataset is a little unbalanced (paraphrase & non-paraphrase)\\nPrecision: Should ideally be high\\nRecall: Should ideally be high\\n\\n'"
      ]
     },
     "execution_count": 296,
     "metadata": {},
     "output_type": "execute_result"
    }
   ],
   "source": [
    "'''\n",
    "Accuracy: May not be a good measure because the dataset is a little unbalanced (paraphrase & non-paraphrase)\n",
    "Precision: Should ideally be high\n",
    "Recall: Should ideally be high\n",
    "\n",
    "'''"
   ]
  }
 ],
 "metadata": {
  "interpreter": {
   "hash": "4ba8ccf737b15cd80d270f3c9a5662f183ffa2a8eee196c58873fb7075cc0cb1"
  },
  "kernelspec": {
   "display_name": "Python 3.9.12 ('ir')",
   "language": "python",
   "name": "python3"
  },
  "language_info": {
   "codemirror_mode": {
    "name": "ipython",
    "version": 3
   },
   "file_extension": ".py",
   "mimetype": "text/x-python",
   "name": "python",
   "nbconvert_exporter": "python",
   "pygments_lexer": "ipython3",
   "version": "3.9.12"
  },
  "orig_nbformat": 4
 },
 "nbformat": 4,
 "nbformat_minor": 2
}
