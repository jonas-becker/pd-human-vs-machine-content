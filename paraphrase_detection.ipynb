{
 "cells": [
  {
   "cell_type": "code",
   "execution_count": 107,
   "metadata": {},
   "outputs": [],
   "source": [
    "import os\n",
    "import pandas as pd\n",
    "from tqdm import tqdm\n",
    "from re import sub\n",
    "import numpy as np\n",
    "from thefuzz import fuzz\n",
    "import shortuuid\n",
    "import xml.etree.ElementTree as ET\n",
    "import re\n",
    "import sys\n",
    "from gensim.utils import simple_preprocess\n",
    "import gensim.downloader as api\n",
    "from gensim.corpora import Dictionary\n",
    "from gensim.models import TfidfModel\n",
    "from gensim.similarities import SparseTermSimilarityMatrix, WordEmbeddingSimilarityIndex, SoftCosineSimilarity, Similarity"
   ]
  },
  {
   "cell_type": "code",
   "execution_count": 108,
   "metadata": {},
   "outputs": [],
   "source": [
    "DATASETS_FOLDER = \"datasets\"    #the folder that contains the dataset directories to read in\n",
    "FORMATTED_DATA_FILENAME = \"true_data.json\"  #the name of the file that contains the data to read in\n",
    "DATASETS = [\"DMoP\", \"MSRP\", \"ETPC\"]     #the folders in the DATASETS_FOLDER should be named like the datasets here\n",
    "OUT_DIR = \"output\"      #the directory to output the formatted json in\n",
    "\n",
    "FUZZY = \"fuzzy_based_result\"\n",
    "SEMANTIC = \"semantic_based_result\"\n",
    "\n",
    "STOPWORDS = ['the', 'and', 'are', 'a']\n",
    "\n",
    "pd.set_option(\"display.max_colwidth\", None)"
   ]
  },
  {
   "cell_type": "code",
   "execution_count": 109,
   "metadata": {},
   "outputs": [
    {
     "data": {
      "text/html": [
       "<div>\n",
       "<style scoped>\n",
       "    .dataframe tbody tr th:only-of-type {\n",
       "        vertical-align: middle;\n",
       "    }\n",
       "\n",
       "    .dataframe tbody tr th {\n",
       "        vertical-align: top;\n",
       "    }\n",
       "\n",
       "    .dataframe thead th {\n",
       "        text-align: right;\n",
       "    }\n",
       "</style>\n",
       "<table border=\"1\" class=\"dataframe\">\n",
       "  <thead>\n",
       "    <tr style=\"text-align: right;\">\n",
       "      <th></th>\n",
       "      <th>dataset</th>\n",
       "      <th>id_1</th>\n",
       "      <th>id_2</th>\n",
       "      <th>text_1</th>\n",
       "      <th>text_2</th>\n",
       "      <th>is_paraphrase</th>\n",
       "    </tr>\n",
       "  </thead>\n",
       "  <tbody>\n",
       "    <tr>\n",
       "      <th>0</th>\n",
       "      <td>DMoP</td>\n",
       "      <td>HiDc8dkT</td>\n",
       "      <td>3n3Na3BD</td>\n",
       "      <td>Roy of the Rovers</td>\n",
       "      <td>Roy of the Rovers</td>\n",
       "      <td>True</td>\n",
       "    </tr>\n",
       "    <tr>\n",
       "      <th>1</th>\n",
       "      <td>DMoP</td>\n",
       "      <td>5KfcxDBb</td>\n",
       "      <td>QUzQei9u</td>\n",
       "      <td>Roy of the Rovers is a British comic strip about the life and times of a fictional footballer named Roy Race, who played for Melchester Rovers. The strip first appeared in the \"Tiger\" in 1954, before giving its name to a weekly (and later monthly) comic magazine, published by IPC and Fleetway from 1976 until 1995, in which it was the main feature.</td>\n",
       "      <td>Roy of the Rovers is a British funny cartoon about the life and times of an anecdotal footballer named Roy Race, who played for Melchester Rovers. The strip originally showed up in the \"Tiger\" in 1954, preceding giving its name to a week after week (and later month to month) comic magazine, distributed by IPC and Fleetway from 1976 until 1995, in which it was the principle include.</td>\n",
       "      <td>True</td>\n",
       "    </tr>\n",
       "    <tr>\n",
       "      <th>2</th>\n",
       "      <td>DMoP</td>\n",
       "      <td>gxShcSRt</td>\n",
       "      <td>5nSAkBfd</td>\n",
       "      <td>The weekly strip ran until 1993, following Roy's playing career until its conclusion after he lost his left foot in a helicopter crash. When the monthly comic was launched later that year the focus switched to Roy's son Rocky, who also played for Melchester. This publication was short-lived, and folded after only 19 issues. The adventures of the Race family were subsequently featured in the monthly \"Match of the Day\" football magazine, in which father and son were reunited as manager and player respectively. These strips began in 1997 and continued until the magazine's closure in May 2001.</td>\n",
       "      <td>The week after week strip kept running until 1993, after Roy's playing vocation until its decision after he lost his left foot in a helicopter crash. At the point when the month to month comic was propelled soon thereafter the center changed to Roy's child Rocky, who additionally played for Melchester. This production was brief, and collapsed after just 19 issues. The undertakings of the Race family were in this manner highlighted in the month to month \"Match of the Day\" football magazine, in which father and child were brought together as chief and player separately. These strips started in 1997 and proceeded until the magazine's conclusion in May 2001.</td>\n",
       "      <td>True</td>\n",
       "    </tr>\n",
       "    <tr>\n",
       "      <th>3</th>\n",
       "      <td>DMoP</td>\n",
       "      <td>ERwDq4GC</td>\n",
       "      <td>mFG5GR3n</td>\n",
       "      <td>Football-themed stories were a staple of British comics for boys from the 1950s onwards, and Roy of the Rovers was the most popular. To keep the strip exciting, Melchester was almost every year either competing for major honours or struggling against relegation to a lower division; a normal, uneventful season of mid-table mediocrity was unknown at Melchester Rovers. The strip followed the structure of the actual English football season, thus there were several months each year in summer when there was no league football. By far the most common summer storyline saw Melchester touring a fictional country in an exotic part of the world, often South America, where they would invariably be kidnapped and held to ransom. The average reader probably stayed with the comic regularly for only three or four years, therefore storylines were sometimes recycled; during the first ten years of his playing career, Roy was kidnapped at least four times. Roy also made numerous appearances for England, depicted playing alongside actual players such as Malcolm Macdonald and Trevor Francis.</td>\n",
       "      <td>Football-themed stories were a staple of British funnies for young men from the 1950s onwards, and Roy of the Rovers was the most prevalent. To keep the strip energizing, Melchester was pretty much consistently either seeking real distinctions or battling against transfer to a lower division; a typical, uneventful period of mid-table unremarkableness was obscure at Melchester Rovers. The strip pursued the structure of the real English football season, along these lines there were a while every year in summer when there was no association football. By a long shot the most well-known summer storyline saw Melchester visiting an anecdotal nation in a fascinating piece of the world, regularly South America, where they would perpetually be grabbed and held to recover. The normal peruser presumably remained with the comic consistently for just three or four years, in this way storylines were now and then reused; amid the initial ten years of his playing vocation, Roy was seized something like multiple times. Roy likewise shown up for England, delineated playing nearby real players, for example, Malcolm Macdonald and Trevor Francis.</td>\n",
       "      <td>True</td>\n",
       "    </tr>\n",
       "    <tr>\n",
       "      <th>4</th>\n",
       "      <td>DMoP</td>\n",
       "      <td>Fq6uMo6z</td>\n",
       "      <td>RWeiMaNw</td>\n",
       "      <td>The stock media phrase \"real 'Roy of the Rovers' stuff\" is often used by football writers, commentators and fans when describing displays of great skill, or surprising results that go against the odds, in reference to the dramatic storylines that were the strip's trademark.</td>\n",
       "      <td>The stock media express \"genuine 'Roy of the Rovers' stuff\" is regularly utilized by football journalists, observers and fans while portraying presentations of extraordinary ability, or amazing outcomes that conflict with the chances, in reference to the sensational storylines that were the strip's trademark.</td>\n",
       "      <td>True</td>\n",
       "    </tr>\n",
       "  </tbody>\n",
       "</table>\n",
       "</div>"
      ],
      "text/plain": [
       "  dataset      id_1      id_2  \\\n",
       "0    DMoP  HiDc8dkT  3n3Na3BD   \n",
       "1    DMoP  5KfcxDBb  QUzQei9u   \n",
       "2    DMoP  gxShcSRt  5nSAkBfd   \n",
       "3    DMoP  ERwDq4GC  mFG5GR3n   \n",
       "4    DMoP  Fq6uMo6z  RWeiMaNw   \n",
       "\n",
       "                                                                                                                                                                                                                                                                                                                                                                                                                                                                                                                                                                                                                                                                                                                                                                                                                                                                                                                                                                                                                                                                                                                         text_1  \\\n",
       "0                                                                                                                                                                                                                                                                                                                                                                                                                                                                                                                                                                                                                                                                                                                                                                                                                                                                                                                                                                                                                                                                                                             Roy of the Rovers   \n",
       "1                                                                                                                                                                                                                                                                                                                                                                                                                                                                                                                                                                                                                                                                                                                                                                 Roy of the Rovers is a British comic strip about the life and times of a fictional footballer named Roy Race, who played for Melchester Rovers. The strip first appeared in the \"Tiger\" in 1954, before giving its name to a weekly (and later monthly) comic magazine, published by IPC and Fleetway from 1976 until 1995, in which it was the main feature.   \n",
       "2                                                                                                                                                                                                                                                                                                                                                                                                                                                                                                          The weekly strip ran until 1993, following Roy's playing career until its conclusion after he lost his left foot in a helicopter crash. When the monthly comic was launched later that year the focus switched to Roy's son Rocky, who also played for Melchester. This publication was short-lived, and folded after only 19 issues. The adventures of the Race family were subsequently featured in the monthly \"Match of the Day\" football magazine, in which father and son were reunited as manager and player respectively. These strips began in 1997 and continued until the magazine's closure in May 2001.   \n",
       "3  Football-themed stories were a staple of British comics for boys from the 1950s onwards, and Roy of the Rovers was the most popular. To keep the strip exciting, Melchester was almost every year either competing for major honours or struggling against relegation to a lower division; a normal, uneventful season of mid-table mediocrity was unknown at Melchester Rovers. The strip followed the structure of the actual English football season, thus there were several months each year in summer when there was no league football. By far the most common summer storyline saw Melchester touring a fictional country in an exotic part of the world, often South America, where they would invariably be kidnapped and held to ransom. The average reader probably stayed with the comic regularly for only three or four years, therefore storylines were sometimes recycled; during the first ten years of his playing career, Roy was kidnapped at least four times. Roy also made numerous appearances for England, depicted playing alongside actual players such as Malcolm Macdonald and Trevor Francis.   \n",
       "4                                                                                                                                                                                                                                                                                                                                                                                                                                                                                                                                                                                                                                                                                                                                                                                                                                            The stock media phrase \"real 'Roy of the Rovers' stuff\" is often used by football writers, commentators and fans when describing displays of great skill, or surprising results that go against the odds, in reference to the dramatic storylines that were the strip's trademark.   \n",
       "\n",
       "                                                                                                                                                                                                                                                                                                                                                                                                                                                                                                                                                                                                                                                                                                                                                                                                                                                                                                                                                                                                                                                                                                                                                                                   text_2  \\\n",
       "0                                                                                                                                                                                                                                                                                                                                                                                                                                                                                                                                                                                                                                                                                                                                                                                                                                                                                                                                                                                                                                                                                                                                                                       Roy of the Rovers   \n",
       "1                                                                                                                                                                                                                                                                                                                                                                                                                                                                                                                                                                                                                                                                                                                                                                                        Roy of the Rovers is a British funny cartoon about the life and times of an anecdotal footballer named Roy Race, who played for Melchester Rovers. The strip originally showed up in the \"Tiger\" in 1954, preceding giving its name to a week after week (and later month to month) comic magazine, distributed by IPC and Fleetway from 1976 until 1995, in which it was the principle include.   \n",
       "2                                                                                                                                                                                                                                                                                                                                                                                                                                                                                                  The week after week strip kept running until 1993, after Roy's playing vocation until its decision after he lost his left foot in a helicopter crash. At the point when the month to month comic was propelled soon thereafter the center changed to Roy's child Rocky, who additionally played for Melchester. This production was brief, and collapsed after just 19 issues. The undertakings of the Race family were in this manner highlighted in the month to month \"Match of the Day\" football magazine, in which father and child were brought together as chief and player separately. These strips started in 1997 and proceeded until the magazine's conclusion in May 2001.   \n",
       "3  Football-themed stories were a staple of British funnies for young men from the 1950s onwards, and Roy of the Rovers was the most prevalent. To keep the strip energizing, Melchester was pretty much consistently either seeking real distinctions or battling against transfer to a lower division; a typical, uneventful period of mid-table unremarkableness was obscure at Melchester Rovers. The strip pursued the structure of the real English football season, along these lines there were a while every year in summer when there was no association football. By a long shot the most well-known summer storyline saw Melchester visiting an anecdotal nation in a fascinating piece of the world, regularly South America, where they would perpetually be grabbed and held to recover. The normal peruser presumably remained with the comic consistently for just three or four years, in this way storylines were now and then reused; amid the initial ten years of his playing vocation, Roy was seized something like multiple times. Roy likewise shown up for England, delineated playing nearby real players, for example, Malcolm Macdonald and Trevor Francis.   \n",
       "4                                                                                                                                                                                                                                                                                                                                                                                                                                                                                                                                                                                                                                                                                                                                                                                                                                                                  The stock media express \"genuine 'Roy of the Rovers' stuff\" is regularly utilized by football journalists, observers and fans while portraying presentations of extraordinary ability, or amazing outcomes that conflict with the chances, in reference to the sensational storylines that were the strip's trademark.   \n",
       "\n",
       "   is_paraphrase  \n",
       "0           True  \n",
       "1           True  \n",
       "2           True  \n",
       "3           True  \n",
       "4           True  "
      ]
     },
     "execution_count": 109,
     "metadata": {},
     "output_type": "execute_result"
    }
   ],
   "source": [
    "df = pd.read_json(os.path.join(OUT_DIR, FORMATTED_DATA_FILENAME), orient = \"index\")\n",
    "df.head()"
   ]
  },
  {
   "cell_type": "code",
   "execution_count": 126,
   "metadata": {},
   "outputs": [
    {
     "name": "stdout",
     "output_type": "stream",
     "text": [
      "Checking for paraprhases with the fuzzy-based method. Dataframe rows to process: 11972\n"
     ]
    },
    {
     "name": "stderr",
     "output_type": "stream",
     "text": [
      "11972it [00:00, 12090.20it/s]\n"
     ]
    }
   ],
   "source": [
    "#Check for paraphrase with fuzzy based\n",
    "fuzzy_results = []\n",
    "print(\"Checking for paraprhases with the fuzzy-based method. Dataframe rows to process: \" + str(len(df)))\n",
    "for i, row in tqdm(df.iterrows()):\n",
    "    fuzzy_results.append(float(fuzz.ratio(row[\"text_1\"], row[\"text_2\"])/100))\n",
    "\n",
    "df[FUZZY] = fuzzy_results"
   ]
  },
  {
   "cell_type": "code",
   "execution_count": 111,
   "metadata": {},
   "outputs": [],
   "source": [
    "def preprocess(doc):\n",
    "        # Tokenize and clean data\n",
    "        doc = sub(r'<img[^<>]+(>|$)', \" image_token \", doc)\n",
    "        doc = sub(r'<[^<>]+(>|$)', \" \", doc)\n",
    "        doc = sub(r'\\[img_assist[^]]*?\\]', \" \", doc)\n",
    "        doc = sub(r'http[s]?://(?:[a-zA-Z]|[0-9]|[$-_@.&+]|[!*\\(\\),]|(?:%[0-9a-fA-F][0-9a-fA-F]))+', \" url_token \", doc)\n",
    "        return [token for token in simple_preprocess(doc, min_len=0, max_len=float(\"inf\")) if token not in STOPWORDS]\n"
   ]
  },
  {
   "cell_type": "code",
   "execution_count": 112,
   "metadata": {},
   "outputs": [],
   "source": [
    "def check_semantic(corpus, string_2, similarity_matrix):\n",
    "\n",
    "    query = preprocess(string_2)\n",
    "\n",
    "    query_tf = tfidf[dictionary.doc2bow(query)]\n",
    "    index = SoftCosineSimilarity(tfidf[[dictionary.doc2bow(document) for document in corpus]], similarity_matrix)\n",
    "\n",
    "    return index[query_tf]"
   ]
  },
  {
   "cell_type": "code",
   "execution_count": 113,
   "metadata": {},
   "outputs": [],
   "source": [
    "corpus = [ preprocess(document) for document in list(df[\"text_1\"]) ]\n",
    "# use a pre trained model: https://huggingface.co/fse/glove-wiki-gigaword-50 , https://nlp.stanford.edu/pubs/glove.pdf\n",
    "glove = api.load(\"glove-wiki-gigaword-50\")\n",
    "similarity_index = WordEmbeddingSimilarityIndex(glove)"
   ]
  },
  {
   "cell_type": "code",
   "execution_count": 114,
   "metadata": {},
   "outputs": [
    {
     "name": "stdout",
     "output_type": "stream",
     "text": [
      "Creating the similarity matrix...\n"
     ]
    },
    {
     "name": "stderr",
     "output_type": "stream",
     "text": [
      "100%|██████████| 15821/15821 [04:12<00:00, 62.65it/s] \n"
     ]
    }
   ],
   "source": [
    "# Build the term dictionary and the tfidf model\n",
    "dictionary = Dictionary(corpus)\n",
    "tfidf = TfidfModel(dictionary=dictionary)\n",
    "\n",
    "# Create the term similarity matrix.    \n",
    "print(\"Creating the similarity matrix...\")\n",
    "similarity_matrix = SparseTermSimilarityMatrix(similarity_index, dictionary, tfidf)     #takes a long time\n"
   ]
  },
  {
   "cell_type": "code",
   "execution_count": 132,
   "metadata": {},
   "outputs": [
    {
     "name": "stdout",
     "output_type": "stream",
     "text": [
      "Processing texts...\n"
     ]
    },
    {
     "name": "stderr",
     "output_type": "stream",
     "text": [
      "  1%|▏         | 172/11972 [07:17<6:21:22,  1.94s/it] "
     ]
    },
    {
     "name": "stdout",
     "output_type": "stream",
     "text": [
      "result is 0.0. Appending the only result value: 0.0\n",
      "too many indices for array: array is 0-dimensional, but 1 were indexed\n"
     ]
    },
    {
     "name": "stderr",
     "output_type": "stream",
     "text": [
      "  3%|▎         | 308/11972 [13:03<5:34:34,  1.72s/it] "
     ]
    },
    {
     "name": "stdout",
     "output_type": "stream",
     "text": [
      "result is 0.0. Appending the only result value: 0.0\n",
      "too many indices for array: array is 0-dimensional, but 1 were indexed\n"
     ]
    },
    {
     "name": "stderr",
     "output_type": "stream",
     "text": [
      "100%|██████████| 11972/11972 [5:11:10<00:00,  1.56s/it] \n"
     ]
    }
   ],
   "source": [
    "print(\"Processing texts...\")\n",
    "semantic_results = []\n",
    "for i, row in tqdm(df.iterrows(), total=df.shape[0]):\n",
    "    sim = check_semantic(corpus, row[\"text_2\"], similarity_matrix)\n",
    "    try:\n",
    "        semantic_results.append(sim[i])\n",
    "    except Exception as e:\n",
    "        print(\"result is \" + str(sim) + \". Appending the only result value: \" + str(float(sim.item())))\n",
    "        print(e)\n",
    "        semantic_results.append(float(sim.item()))\n",
    "        continue\n",
    "\n",
    "df[SEMANTIC] = semantic_results"
   ]
  },
  {
   "cell_type": "code",
   "execution_count": 133,
   "metadata": {},
   "outputs": [
    {
     "data": {
      "text/html": [
       "<div>\n",
       "<style scoped>\n",
       "    .dataframe tbody tr th:only-of-type {\n",
       "        vertical-align: middle;\n",
       "    }\n",
       "\n",
       "    .dataframe tbody tr th {\n",
       "        vertical-align: top;\n",
       "    }\n",
       "\n",
       "    .dataframe thead th {\n",
       "        text-align: right;\n",
       "    }\n",
       "</style>\n",
       "<table border=\"1\" class=\"dataframe\">\n",
       "  <thead>\n",
       "    <tr style=\"text-align: right;\">\n",
       "      <th></th>\n",
       "      <th>dataset</th>\n",
       "      <th>id_1</th>\n",
       "      <th>id_2</th>\n",
       "      <th>text_1</th>\n",
       "      <th>text_2</th>\n",
       "      <th>is_paraphrase</th>\n",
       "      <th>fuzzy_based_result</th>\n",
       "      <th>semantic_based_result</th>\n",
       "    </tr>\n",
       "  </thead>\n",
       "  <tbody>\n",
       "    <tr>\n",
       "      <th>0</th>\n",
       "      <td>DMoP</td>\n",
       "      <td>HiDc8dkT</td>\n",
       "      <td>3n3Na3BD</td>\n",
       "      <td>Roy of the Rovers</td>\n",
       "      <td>Roy of the Rovers</td>\n",
       "      <td>True</td>\n",
       "      <td>1.00</td>\n",
       "      <td>1.000000</td>\n",
       "    </tr>\n",
       "    <tr>\n",
       "      <th>1</th>\n",
       "      <td>DMoP</td>\n",
       "      <td>5KfcxDBb</td>\n",
       "      <td>QUzQei9u</td>\n",
       "      <td>Roy of the Rovers is a British comic strip about the life and times of a fictional footballer named Roy Race, who played for Melchester Rovers. The strip first appeared in the \"Tiger\" in 1954, before giving its name to a weekly (and later monthly) comic magazine, published by IPC and Fleetway from 1976 until 1995, in which it was the main feature.</td>\n",
       "      <td>Roy of the Rovers is a British funny cartoon about the life and times of an anecdotal footballer named Roy Race, who played for Melchester Rovers. The strip originally showed up in the \"Tiger\" in 1954, preceding giving its name to a week after week (and later month to month) comic magazine, distributed by IPC and Fleetway from 1976 until 1995, in which it was the principle include.</td>\n",
       "      <td>True</td>\n",
       "      <td>0.83</td>\n",
       "      <td>0.777395</td>\n",
       "    </tr>\n",
       "    <tr>\n",
       "      <th>2</th>\n",
       "      <td>DMoP</td>\n",
       "      <td>gxShcSRt</td>\n",
       "      <td>5nSAkBfd</td>\n",
       "      <td>The weekly strip ran until 1993, following Roy's playing career until its conclusion after he lost his left foot in a helicopter crash. When the monthly comic was launched later that year the focus switched to Roy's son Rocky, who also played for Melchester. This publication was short-lived, and folded after only 19 issues. The adventures of the Race family were subsequently featured in the monthly \"Match of the Day\" football magazine, in which father and son were reunited as manager and player respectively. These strips began in 1997 and continued until the magazine's closure in May 2001.</td>\n",
       "      <td>The week after week strip kept running until 1993, after Roy's playing vocation until its decision after he lost his left foot in a helicopter crash. At the point when the month to month comic was propelled soon thereafter the center changed to Roy's child Rocky, who additionally played for Melchester. This production was brief, and collapsed after just 19 issues. The undertakings of the Race family were in this manner highlighted in the month to month \"Match of the Day\" football magazine, in which father and child were brought together as chief and player separately. These strips started in 1997 and proceeded until the magazine's conclusion in May 2001.</td>\n",
       "      <td>True</td>\n",
       "      <td>0.75</td>\n",
       "      <td>0.756583</td>\n",
       "    </tr>\n",
       "    <tr>\n",
       "      <th>3</th>\n",
       "      <td>DMoP</td>\n",
       "      <td>ERwDq4GC</td>\n",
       "      <td>mFG5GR3n</td>\n",
       "      <td>Football-themed stories were a staple of British comics for boys from the 1950s onwards, and Roy of the Rovers was the most popular. To keep the strip exciting, Melchester was almost every year either competing for major honours or struggling against relegation to a lower division; a normal, uneventful season of mid-table mediocrity was unknown at Melchester Rovers. The strip followed the structure of the actual English football season, thus there were several months each year in summer when there was no league football. By far the most common summer storyline saw Melchester touring a fictional country in an exotic part of the world, often South America, where they would invariably be kidnapped and held to ransom. The average reader probably stayed with the comic regularly for only three or four years, therefore storylines were sometimes recycled; during the first ten years of his playing career, Roy was kidnapped at least four times. Roy also made numerous appearances for England, depicted playing alongside actual players such as Malcolm Macdonald and Trevor Francis.</td>\n",
       "      <td>Football-themed stories were a staple of British funnies for young men from the 1950s onwards, and Roy of the Rovers was the most prevalent. To keep the strip energizing, Melchester was pretty much consistently either seeking real distinctions or battling against transfer to a lower division; a typical, uneventful period of mid-table unremarkableness was obscure at Melchester Rovers. The strip pursued the structure of the real English football season, along these lines there were a while every year in summer when there was no association football. By a long shot the most well-known summer storyline saw Melchester visiting an anecdotal nation in a fascinating piece of the world, regularly South America, where they would perpetually be grabbed and held to recover. The normal peruser presumably remained with the comic consistently for just three or four years, in this way storylines were now and then reused; amid the initial ten years of his playing vocation, Roy was seized something like multiple times. Roy likewise shown up for England, delineated playing nearby real players, for example, Malcolm Macdonald and Trevor Francis.</td>\n",
       "      <td>True</td>\n",
       "      <td>0.74</td>\n",
       "      <td>0.862936</td>\n",
       "    </tr>\n",
       "    <tr>\n",
       "      <th>4</th>\n",
       "      <td>DMoP</td>\n",
       "      <td>Fq6uMo6z</td>\n",
       "      <td>RWeiMaNw</td>\n",
       "      <td>The stock media phrase \"real 'Roy of the Rovers' stuff\" is often used by football writers, commentators and fans when describing displays of great skill, or surprising results that go against the odds, in reference to the dramatic storylines that were the strip's trademark.</td>\n",
       "      <td>The stock media express \"genuine 'Roy of the Rovers' stuff\" is regularly utilized by football journalists, observers and fans while portraying presentations of extraordinary ability, or amazing outcomes that conflict with the chances, in reference to the sensational storylines that were the strip's trademark.</td>\n",
       "      <td>True</td>\n",
       "      <td>0.72</td>\n",
       "      <td>0.678417</td>\n",
       "    </tr>\n",
       "    <tr>\n",
       "      <th>...</th>\n",
       "      <td>...</td>\n",
       "      <td>...</td>\n",
       "      <td>...</td>\n",
       "      <td>...</td>\n",
       "      <td>...</td>\n",
       "      <td>...</td>\n",
       "      <td>...</td>\n",
       "      <td>...</td>\n",
       "    </tr>\n",
       "    <tr>\n",
       "      <th>170</th>\n",
       "      <td>DMoP</td>\n",
       "      <td>853vvVmc</td>\n",
       "      <td>3dEArB7b</td>\n",
       "      <td>In contemporary internet culture, individuals and organizations frequently pay homage to the number . For instance, the computer scientist Donald Knuth let the version numbers of his program TeX approach . The versions are 3, 3.1, 3.14, and so forth.</td>\n",
       "      <td>In contemporary web culture, people and associations as often as possible pay praise to the number . For example, the PC researcher Donald Knuth let the rendition quantities of his program TeX approach . The adaptations are 3, 3.1, 3.14, etc.</td>\n",
       "      <td>True</td>\n",
       "      <td>0.72</td>\n",
       "      <td>0.846090</td>\n",
       "    </tr>\n",
       "    <tr>\n",
       "      <th>171</th>\n",
       "      <td>DMoP</td>\n",
       "      <td>hZ2wpCEH</td>\n",
       "      <td>RNmNmkqZ</td>\n",
       "      <td>Footnotes</td>\n",
       "      <td>Commentaries</td>\n",
       "      <td>True</td>\n",
       "      <td>0.48</td>\n",
       "      <td>0.000000</td>\n",
       "    </tr>\n",
       "    <tr>\n",
       "      <th>172</th>\n",
       "      <td>DMoP</td>\n",
       "      <td>XhsHXfwM</td>\n",
       "      <td>AXGbzc9T</td>\n",
       "      <td>References</td>\n",
       "      <td>References</td>\n",
       "      <td>True</td>\n",
       "      <td>1.00</td>\n",
       "      <td>1.000000</td>\n",
       "    </tr>\n",
       "    <tr>\n",
       "      <th>173</th>\n",
       "      <td>DMoP</td>\n",
       "      <td>Szdx2b6G</td>\n",
       "      <td>gn7yPeym</td>\n",
       "      <td>Pirates of the Caribbean: Dead Man's Chest</td>\n",
       "      <td>Privateers of the Caribbean: Dead Man's Chest</td>\n",
       "      <td>True</td>\n",
       "      <td>0.94</td>\n",
       "      <td>1.000000</td>\n",
       "    </tr>\n",
       "    <tr>\n",
       "      <th>174</th>\n",
       "      <td>DMoP</td>\n",
       "      <td>ARppekGu</td>\n",
       "      <td>mGm5Ve2G</td>\n",
       "      <td>Pirates of the Caribbean: Dead Man's Chest is a 2006 American fantasy swashbuckler film, the second installment of the \"Pirates of the Caribbean\" film series and the sequel to \"\" (2003). It was directed by Gore Verbinski, written by Ted Elliott and Terry Rossio, and produced by Jerry Bruckheimer. In the film, the wedding of Will Turner (Orlando Bloom) and Elizabeth Swann (Keira Knightley) is interrupted by Lord Cutler Beckett (Tom Hollander), who wants Turner to acquire the compass of Captain Jack Sparrow (Johnny Depp) in a bid to find the Dead Man's Chest. Sparrow discovers his debt to Davy Jones (Bill Nighy) is due.</td>\n",
       "      <td>Privateers of the Caribbean: Dead Man's Chest is a 2006 American dream swashbuckler film, the second portion of the \"Privateers of the Caribbean\" film arrangement and the continuation of \"\" (2003). It was coordinated by Gore Verbinski, composed by Ted Elliott and Terry Rossio, and delivered by Jerry Bruckheimer. In the film, the wedding of Will Turner (Orlando Bloom) and Elizabeth Swann (Keira Knightley) is hindered by Lord Cutler Beckett (Tom Hollander), who needs Turner to secure the compass of Captain Jack Sparrow (Johnny Depp) in an offer to locate the Dead Man's Chest. Sparrow finds his obligation to Davy Jones (Bill Nighy) is expected.</td>\n",
       "      <td>True</td>\n",
       "      <td>0.87</td>\n",
       "      <td>0.908410</td>\n",
       "    </tr>\n",
       "  </tbody>\n",
       "</table>\n",
       "<p>175 rows × 8 columns</p>\n",
       "</div>"
      ],
      "text/plain": [
       "    dataset      id_1      id_2  \\\n",
       "0      DMoP  HiDc8dkT  3n3Na3BD   \n",
       "1      DMoP  5KfcxDBb  QUzQei9u   \n",
       "2      DMoP  gxShcSRt  5nSAkBfd   \n",
       "3      DMoP  ERwDq4GC  mFG5GR3n   \n",
       "4      DMoP  Fq6uMo6z  RWeiMaNw   \n",
       "..      ...       ...       ...   \n",
       "170    DMoP  853vvVmc  3dEArB7b   \n",
       "171    DMoP  hZ2wpCEH  RNmNmkqZ   \n",
       "172    DMoP  XhsHXfwM  AXGbzc9T   \n",
       "173    DMoP  Szdx2b6G  gn7yPeym   \n",
       "174    DMoP  ARppekGu  mGm5Ve2G   \n",
       "\n",
       "                                                                                                                                                                                                                                                                                                                                                                                                                                                                                                                                                                                                                                                                                                                                                                                                                                                                                                                                                                                                                                                                                                                           text_1  \\\n",
       "0                                                                                                                                                                                                                                                                                                                                                                                                                                                                                                                                                                                                                                                                                                                                                                                                                                                                                                                                                                                                                                                                                                               Roy of the Rovers   \n",
       "1                                                                                                                                                                                                                                                                                                                                                                                                                                                                                                                                                                                                                                                                                                                                                                   Roy of the Rovers is a British comic strip about the life and times of a fictional footballer named Roy Race, who played for Melchester Rovers. The strip first appeared in the \"Tiger\" in 1954, before giving its name to a weekly (and later monthly) comic magazine, published by IPC and Fleetway from 1976 until 1995, in which it was the main feature.   \n",
       "2                                                                                                                                                                                                                                                                                                                                                                                                                                                                                                            The weekly strip ran until 1993, following Roy's playing career until its conclusion after he lost his left foot in a helicopter crash. When the monthly comic was launched later that year the focus switched to Roy's son Rocky, who also played for Melchester. This publication was short-lived, and folded after only 19 issues. The adventures of the Race family were subsequently featured in the monthly \"Match of the Day\" football magazine, in which father and son were reunited as manager and player respectively. These strips began in 1997 and continued until the magazine's closure in May 2001.   \n",
       "3    Football-themed stories were a staple of British comics for boys from the 1950s onwards, and Roy of the Rovers was the most popular. To keep the strip exciting, Melchester was almost every year either competing for major honours or struggling against relegation to a lower division; a normal, uneventful season of mid-table mediocrity was unknown at Melchester Rovers. The strip followed the structure of the actual English football season, thus there were several months each year in summer when there was no league football. By far the most common summer storyline saw Melchester touring a fictional country in an exotic part of the world, often South America, where they would invariably be kidnapped and held to ransom. The average reader probably stayed with the comic regularly for only three or four years, therefore storylines were sometimes recycled; during the first ten years of his playing career, Roy was kidnapped at least four times. Roy also made numerous appearances for England, depicted playing alongside actual players such as Malcolm Macdonald and Trevor Francis.   \n",
       "4                                                                                                                                                                                                                                                                                                                                                                                                                                                                                                                                                                                                                                                                                                                                                                                                                                              The stock media phrase \"real 'Roy of the Rovers' stuff\" is often used by football writers, commentators and fans when describing displays of great skill, or surprising results that go against the odds, in reference to the dramatic storylines that were the strip's trademark.   \n",
       "..                                                                                                                                                                                                                                                                                                                                                                                                                                                                                                                                                                                                                                                                                                                                                                                                                                                                                                                                                                                                                                                                                                                            ...   \n",
       "170                                                                                                                                                                                                                                                                                                                                                                                                                                                                                                                                                                                                                                                                                                                                                                                                                                                                    In contemporary internet culture, individuals and organizations frequently pay homage to the number . For instance, the computer scientist Donald Knuth let the version numbers of his program TeX approach . The versions are 3, 3.1, 3.14, and so forth.   \n",
       "171                                                                                                                                                                                                                                                                                                                                                                                                                                                                                                                                                                                                                                                                                                                                                                                                                                                                                                                                                                                                                                                                                                                     Footnotes   \n",
       "172                                                                                                                                                                                                                                                                                                                                                                                                                                                                                                                                                                                                                                                                                                                                                                                                                                                                                                                                                                                                                                                                                                                    References   \n",
       "173                                                                                                                                                                                                                                                                                                                                                                                                                                                                                                                                                                                                                                                                                                                                                                                                                                                                                                                                                                                                                                                                                    Pirates of the Caribbean: Dead Man's Chest   \n",
       "174                                                                                                                                                                                                                                                                                                                                                                                                                                                                             Pirates of the Caribbean: Dead Man's Chest is a 2006 American fantasy swashbuckler film, the second installment of the \"Pirates of the Caribbean\" film series and the sequel to \"\" (2003). It was directed by Gore Verbinski, written by Ted Elliott and Terry Rossio, and produced by Jerry Bruckheimer. In the film, the wedding of Will Turner (Orlando Bloom) and Elizabeth Swann (Keira Knightley) is interrupted by Lord Cutler Beckett (Tom Hollander), who wants Turner to acquire the compass of Captain Jack Sparrow (Johnny Depp) in a bid to find the Dead Man's Chest. Sparrow discovers his debt to Davy Jones (Bill Nighy) is due.   \n",
       "\n",
       "                                                                                                                                                                                                                                                                                                                                                                                                                                                                                                                                                                                                                                                                                                                                                                                                                                                                                                                                                                                                                                                                                                                                                                                     text_2  \\\n",
       "0                                                                                                                                                                                                                                                                                                                                                                                                                                                                                                                                                                                                                                                                                                                                                                                                                                                                                                                                                                                                                                                                                                                                                                         Roy of the Rovers   \n",
       "1                                                                                                                                                                                                                                                                                                                                                                                                                                                                                                                                                                                                                                                                                                                                                                                          Roy of the Rovers is a British funny cartoon about the life and times of an anecdotal footballer named Roy Race, who played for Melchester Rovers. The strip originally showed up in the \"Tiger\" in 1954, preceding giving its name to a week after week (and later month to month) comic magazine, distributed by IPC and Fleetway from 1976 until 1995, in which it was the principle include.   \n",
       "2                                                                                                                                                                                                                                                                                                                                                                                                                                                                                                    The week after week strip kept running until 1993, after Roy's playing vocation until its decision after he lost his left foot in a helicopter crash. At the point when the month to month comic was propelled soon thereafter the center changed to Roy's child Rocky, who additionally played for Melchester. This production was brief, and collapsed after just 19 issues. The undertakings of the Race family were in this manner highlighted in the month to month \"Match of the Day\" football magazine, in which father and child were brought together as chief and player separately. These strips started in 1997 and proceeded until the magazine's conclusion in May 2001.   \n",
       "3    Football-themed stories were a staple of British funnies for young men from the 1950s onwards, and Roy of the Rovers was the most prevalent. To keep the strip energizing, Melchester was pretty much consistently either seeking real distinctions or battling against transfer to a lower division; a typical, uneventful period of mid-table unremarkableness was obscure at Melchester Rovers. The strip pursued the structure of the real English football season, along these lines there were a while every year in summer when there was no association football. By a long shot the most well-known summer storyline saw Melchester visiting an anecdotal nation in a fascinating piece of the world, regularly South America, where they would perpetually be grabbed and held to recover. The normal peruser presumably remained with the comic consistently for just three or four years, in this way storylines were now and then reused; amid the initial ten years of his playing vocation, Roy was seized something like multiple times. Roy likewise shown up for England, delineated playing nearby real players, for example, Malcolm Macdonald and Trevor Francis.   \n",
       "4                                                                                                                                                                                                                                                                                                                                                                                                                                                                                                                                                                                                                                                                                                                                                                                                                                                                    The stock media express \"genuine 'Roy of the Rovers' stuff\" is regularly utilized by football journalists, observers and fans while portraying presentations of extraordinary ability, or amazing outcomes that conflict with the chances, in reference to the sensational storylines that were the strip's trademark.   \n",
       "..                                                                                                                                                                                                                                                                                                                                                                                                                                                                                                                                                                                                                                                                                                                                                                                                                                                                                                                                                                                                                                                                                                                                                                                      ...   \n",
       "170                                                                                                                                                                                                                                                                                                                                                                                                                                                                                                                                                                                                                                                                                                                                                                                                                                                                                                                                      In contemporary web culture, people and associations as often as possible pay praise to the number . For example, the PC researcher Donald Knuth let the rendition quantities of his program TeX approach . The adaptations are 3, 3.1, 3.14, etc.   \n",
       "171                                                                                                                                                                                                                                                                                                                                                                                                                                                                                                                                                                                                                                                                                                                                                                                                                                                                                                                                                                                                                                                                                                                                                                            Commentaries   \n",
       "172                                                                                                                                                                                                                                                                                                                                                                                                                                                                                                                                                                                                                                                                                                                                                                                                                                                                                                                                                                                                                                                                                                                                                                              References   \n",
       "173                                                                                                                                                                                                                                                                                                                                                                                                                                                                                                                                                                                                                                                                                                                                                                                                                                                                                                                                                                                                                                                                                                                                           Privateers of the Caribbean: Dead Man's Chest   \n",
       "174                                                                                                                                                                                                                                                                                                                                                                                                                                                                                                               Privateers of the Caribbean: Dead Man's Chest is a 2006 American dream swashbuckler film, the second portion of the \"Privateers of the Caribbean\" film arrangement and the continuation of \"\" (2003). It was coordinated by Gore Verbinski, composed by Ted Elliott and Terry Rossio, and delivered by Jerry Bruckheimer. In the film, the wedding of Will Turner (Orlando Bloom) and Elizabeth Swann (Keira Knightley) is hindered by Lord Cutler Beckett (Tom Hollander), who needs Turner to secure the compass of Captain Jack Sparrow (Johnny Depp) in an offer to locate the Dead Man's Chest. Sparrow finds his obligation to Davy Jones (Bill Nighy) is expected.   \n",
       "\n",
       "     is_paraphrase  fuzzy_based_result  semantic_based_result  \n",
       "0             True                1.00               1.000000  \n",
       "1             True                0.83               0.777395  \n",
       "2             True                0.75               0.756583  \n",
       "3             True                0.74               0.862936  \n",
       "4             True                0.72               0.678417  \n",
       "..             ...                 ...                    ...  \n",
       "170           True                0.72               0.846090  \n",
       "171           True                0.48               0.000000  \n",
       "172           True                1.00               1.000000  \n",
       "173           True                0.94               1.000000  \n",
       "174           True                0.87               0.908410  \n",
       "\n",
       "[175 rows x 8 columns]"
      ]
     },
     "execution_count": 133,
     "metadata": {},
     "output_type": "execute_result"
    }
   ],
   "source": [
    "df.head(175)"
   ]
  },
  {
   "cell_type": "code",
   "execution_count": 134,
   "metadata": {},
   "outputs": [],
   "source": [
    "#Output data to json format\n",
    "df.to_json(os.path.join(OUT_DIR, \"detection_results.json\"), orient = \"index\", index = True, indent = 4)"
   ]
  }
 ],
 "metadata": {
  "interpreter": {
   "hash": "4ba8ccf737b15cd80d270f3c9a5662f183ffa2a8eee196c58873fb7075cc0cb1"
  },
  "kernelspec": {
   "display_name": "Python 3.9.12 ('ir')",
   "language": "python",
   "name": "python3"
  },
  "language_info": {
   "codemirror_mode": {
    "name": "ipython",
    "version": 3
   },
   "file_extension": ".py",
   "mimetype": "text/x-python",
   "name": "python",
   "nbconvert_exporter": "python",
   "pygments_lexer": "ipython3",
   "version": "3.9.12"
  },
  "orig_nbformat": 4
 },
 "nbformat": 4,
 "nbformat_minor": 2
}
